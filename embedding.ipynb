{
 "cells": [
  {
   "cell_type": "code",
   "execution_count": 1,
   "metadata": {},
   "outputs": [],
   "source": [
    "from tensorflow.keras.preprocessing.text import one_hot"
   ]
  },
  {
   "cell_type": "code",
   "execution_count": 2,
   "metadata": {},
   "outputs": [],
   "source": [
    "### sentences\n",
    "sent=[  'the glass of milk',\n",
    "     'the glass of juice',\n",
    "     'the cup of tea',\n",
    "    'I am a good boy',\n",
    "     'I am a good developer',\n",
    "     'understand the meaning of words',\n",
    "     'your videos are good',]"
   ]
  },
  {
   "cell_type": "code",
   "execution_count": 3,
   "metadata": {},
   "outputs": [
    {
     "data": {
      "text/plain": [
       "['the glass of milk',\n",
       " 'the glass of juice',\n",
       " 'the cup of tea',\n",
       " 'I am a good boy',\n",
       " 'I am a good developer',\n",
       " 'understand the meaning of words',\n",
       " 'your videos are good']"
      ]
     },
     "execution_count": 3,
     "metadata": {},
     "output_type": "execute_result"
    }
   ],
   "source": [
    "sent"
   ]
  },
  {
   "cell_type": "code",
   "execution_count": 4,
   "metadata": {},
   "outputs": [],
   "source": [
    "## Define the vocabulary size\n",
    "voc_size=10000"
   ]
  },
  {
   "cell_type": "code",
   "execution_count": 5,
   "metadata": {},
   "outputs": [
    {
     "data": {
      "text/plain": [
       "['the glass of milk',\n",
       " 'the glass of juice',\n",
       " 'the cup of tea',\n",
       " 'I am a good boy',\n",
       " 'I am a good developer',\n",
       " 'understand the meaning of words',\n",
       " 'your videos are good']"
      ]
     },
     "execution_count": 5,
     "metadata": {},
     "output_type": "execute_result"
    }
   ],
   "source": [
    "sent"
   ]
  },
  {
   "cell_type": "code",
   "execution_count": 6,
   "metadata": {},
   "outputs": [
    {
     "data": {
      "text/plain": [
       "[[568, 3406, 3820, 6246],\n",
       " [568, 3406, 3820, 5897],\n",
       " [568, 7923, 3820, 290],\n",
       " [6660, 581, 8548, 9647, 5140],\n",
       " [6660, 581, 8548, 9647, 928],\n",
       " [6145, 568, 3993, 3820, 8113],\n",
       " [7538, 7402, 8183, 9647]]"
      ]
     },
     "execution_count": 6,
     "metadata": {},
     "output_type": "execute_result"
    }
   ],
   "source": [
    "### One Hot Representation\n",
    "one_hot_repr=[one_hot(words,voc_size)for words in sent]\n",
    "one_hot_repr"
   ]
  },
  {
   "cell_type": "code",
   "execution_count": 7,
   "metadata": {},
   "outputs": [],
   "source": [
    "## word Embedding Representation\n",
    "\n",
    "from tensorflow.keras.layers import Embedding\n",
    "#from tensorflow.keras.processing.sequence import pad_sequences\n",
    "from tensorflow.keras.utils import pad_sequences\n",
    "from tensorflow.keras.models import Sequential"
   ]
  },
  {
   "cell_type": "code",
   "execution_count": 8,
   "metadata": {},
   "outputs": [],
   "source": [
    "import numpy as np"
   ]
  },
  {
   "cell_type": "code",
   "execution_count": 9,
   "metadata": {},
   "outputs": [
    {
     "name": "stdout",
     "output_type": "stream",
     "text": [
      "[[   0    0    0    0  568 3406 3820 6246]\n",
      " [   0    0    0    0  568 3406 3820 5897]\n",
      " [   0    0    0    0  568 7923 3820  290]\n",
      " [   0    0    0 6660  581 8548 9647 5140]\n",
      " [   0    0    0 6660  581 8548 9647  928]\n",
      " [   0    0    0 6145  568 3993 3820 8113]\n",
      " [   0    0    0    0 7538 7402 8183 9647]]\n"
     ]
    }
   ],
   "source": [
    "sent_length=8\n",
    "embedded_docs=pad_sequences(one_hot_repr,padding='pre',maxlen=sent_length)\n",
    "print(embedded_docs)"
   ]
  },
  {
   "cell_type": "code",
   "execution_count": 10,
   "metadata": {},
   "outputs": [],
   "source": [
    "## feature representation\n",
    "dim=10"
   ]
  },
  {
   "cell_type": "code",
   "execution_count": 11,
   "metadata": {},
   "outputs": [
    {
     "name": "stderr",
     "output_type": "stream",
     "text": [
      "/Users/mahidhargedela/Desktop/AI/.venv/lib/python3.13/site-packages/keras/src/layers/core/embedding.py:97: UserWarning: Argument `input_length` is deprecated. Just remove it.\n",
      "  warnings.warn(\n"
     ]
    }
   ],
   "source": [
    "model=Sequential()\n",
    "model.add(Embedding(voc_size,dim,input_length=sent_length))\n",
    "model.compile('adam','mse')"
   ]
  },
  {
   "cell_type": "code",
   "execution_count": 12,
   "metadata": {},
   "outputs": [
    {
     "data": {
      "text/html": [
       "<pre style=\"white-space:pre;overflow-x:auto;line-height:normal;font-family:Menlo,'DejaVu Sans Mono',consolas,'Courier New',monospace\"><span style=\"font-weight: bold\">Model: \"sequential\"</span>\n",
       "</pre>\n"
      ],
      "text/plain": [
       "\u001b[1mModel: \"sequential\"\u001b[0m\n"
      ]
     },
     "metadata": {},
     "output_type": "display_data"
    },
    {
     "data": {
      "text/html": [
       "<pre style=\"white-space:pre;overflow-x:auto;line-height:normal;font-family:Menlo,'DejaVu Sans Mono',consolas,'Courier New',monospace\">┏━━━━━━━━━━━━━━━━━━━━━━━━━━━━━━━━━┳━━━━━━━━━━━━━━━━━━━━━━━━┳━━━━━━━━━━━━━━━┓\n",
       "┃<span style=\"font-weight: bold\"> Layer (type)                    </span>┃<span style=\"font-weight: bold\"> Output Shape           </span>┃<span style=\"font-weight: bold\">       Param # </span>┃\n",
       "┡━━━━━━━━━━━━━━━━━━━━━━━━━━━━━━━━━╇━━━━━━━━━━━━━━━━━━━━━━━━╇━━━━━━━━━━━━━━━┩\n",
       "│ embedding (<span style=\"color: #0087ff; text-decoration-color: #0087ff\">Embedding</span>)           │ ?                      │   <span style=\"color: #00af00; text-decoration-color: #00af00\">0</span> (unbuilt) │\n",
       "└─────────────────────────────────┴────────────────────────┴───────────────┘\n",
       "</pre>\n"
      ],
      "text/plain": [
       "┏━━━━━━━━━━━━━━━━━━━━━━━━━━━━━━━━━┳━━━━━━━━━━━━━━━━━━━━━━━━┳━━━━━━━━━━━━━━━┓\n",
       "┃\u001b[1m \u001b[0m\u001b[1mLayer (type)                   \u001b[0m\u001b[1m \u001b[0m┃\u001b[1m \u001b[0m\u001b[1mOutput Shape          \u001b[0m\u001b[1m \u001b[0m┃\u001b[1m \u001b[0m\u001b[1m      Param #\u001b[0m\u001b[1m \u001b[0m┃\n",
       "┡━━━━━━━━━━━━━━━━━━━━━━━━━━━━━━━━━╇━━━━━━━━━━━━━━━━━━━━━━━━╇━━━━━━━━━━━━━━━┩\n",
       "│ embedding (\u001b[38;5;33mEmbedding\u001b[0m)           │ ?                      │   \u001b[38;5;34m0\u001b[0m (unbuilt) │\n",
       "└─────────────────────────────────┴────────────────────────┴───────────────┘\n"
      ]
     },
     "metadata": {},
     "output_type": "display_data"
    },
    {
     "data": {
      "text/html": [
       "<pre style=\"white-space:pre;overflow-x:auto;line-height:normal;font-family:Menlo,'DejaVu Sans Mono',consolas,'Courier New',monospace\"><span style=\"font-weight: bold\"> Total params: </span><span style=\"color: #00af00; text-decoration-color: #00af00\">0</span> (0.00 B)\n",
       "</pre>\n"
      ],
      "text/plain": [
       "\u001b[1m Total params: \u001b[0m\u001b[38;5;34m0\u001b[0m (0.00 B)\n"
      ]
     },
     "metadata": {},
     "output_type": "display_data"
    },
    {
     "data": {
      "text/html": [
       "<pre style=\"white-space:pre;overflow-x:auto;line-height:normal;font-family:Menlo,'DejaVu Sans Mono',consolas,'Courier New',monospace\"><span style=\"font-weight: bold\"> Trainable params: </span><span style=\"color: #00af00; text-decoration-color: #00af00\">0</span> (0.00 B)\n",
       "</pre>\n"
      ],
      "text/plain": [
       "\u001b[1m Trainable params: \u001b[0m\u001b[38;5;34m0\u001b[0m (0.00 B)\n"
      ]
     },
     "metadata": {},
     "output_type": "display_data"
    },
    {
     "data": {
      "text/html": [
       "<pre style=\"white-space:pre;overflow-x:auto;line-height:normal;font-family:Menlo,'DejaVu Sans Mono',consolas,'Courier New',monospace\"><span style=\"font-weight: bold\"> Non-trainable params: </span><span style=\"color: #00af00; text-decoration-color: #00af00\">0</span> (0.00 B)\n",
       "</pre>\n"
      ],
      "text/plain": [
       "\u001b[1m Non-trainable params: \u001b[0m\u001b[38;5;34m0\u001b[0m (0.00 B)\n"
      ]
     },
     "metadata": {},
     "output_type": "display_data"
    }
   ],
   "source": [
    "model.summary()"
   ]
  },
  {
   "cell_type": "code",
   "execution_count": 13,
   "metadata": {},
   "outputs": [
    {
     "name": "stdout",
     "output_type": "stream",
     "text": [
      "\u001b[1m1/1\u001b[0m \u001b[32m━━━━━━━━━━━━━━━━━━━━\u001b[0m\u001b[37m\u001b[0m \u001b[1m0s\u001b[0m 52ms/step\n"
     ]
    },
    {
     "data": {
      "text/plain": [
       "array([[[ 0.04061041,  0.02592269, -0.00836708, -0.01811042,\n",
       "         -0.0458122 , -0.03328519,  0.00998405, -0.04839853,\n",
       "         -0.04852303, -0.00805988],\n",
       "        [ 0.04061041,  0.02592269, -0.00836708, -0.01811042,\n",
       "         -0.0458122 , -0.03328519,  0.00998405, -0.04839853,\n",
       "         -0.04852303, -0.00805988],\n",
       "        [ 0.04061041,  0.02592269, -0.00836708, -0.01811042,\n",
       "         -0.0458122 , -0.03328519,  0.00998405, -0.04839853,\n",
       "         -0.04852303, -0.00805988],\n",
       "        [ 0.04061041,  0.02592269, -0.00836708, -0.01811042,\n",
       "         -0.0458122 , -0.03328519,  0.00998405, -0.04839853,\n",
       "         -0.04852303, -0.00805988],\n",
       "        [-0.0113874 ,  0.01772687,  0.0261254 , -0.03825758,\n",
       "         -0.03290415, -0.00680462,  0.0386058 ,  0.04778702,\n",
       "          0.02439887, -0.02174522],\n",
       "        [ 0.04171964, -0.00263466, -0.02111938, -0.02107427,\n",
       "          0.03182595, -0.01457778, -0.00316788, -0.03930714,\n",
       "          0.04378268, -0.00669831],\n",
       "        [-0.0176368 ,  0.02304233,  0.03375972, -0.04318365,\n",
       "          0.02043772, -0.03278381,  0.04657319, -0.04396532,\n",
       "         -0.00016782,  0.03368478],\n",
       "        [ 0.03389022, -0.02018498,  0.00405903,  0.01560638,\n",
       "          0.01572372, -0.01563869,  0.00200971,  0.03655914,\n",
       "         -0.00181342,  0.03236404]],\n",
       "\n",
       "       [[ 0.04061041,  0.02592269, -0.00836708, -0.01811042,\n",
       "         -0.0458122 , -0.03328519,  0.00998405, -0.04839853,\n",
       "         -0.04852303, -0.00805988],\n",
       "        [ 0.04061041,  0.02592269, -0.00836708, -0.01811042,\n",
       "         -0.0458122 , -0.03328519,  0.00998405, -0.04839853,\n",
       "         -0.04852303, -0.00805988],\n",
       "        [ 0.04061041,  0.02592269, -0.00836708, -0.01811042,\n",
       "         -0.0458122 , -0.03328519,  0.00998405, -0.04839853,\n",
       "         -0.04852303, -0.00805988],\n",
       "        [ 0.04061041,  0.02592269, -0.00836708, -0.01811042,\n",
       "         -0.0458122 , -0.03328519,  0.00998405, -0.04839853,\n",
       "         -0.04852303, -0.00805988],\n",
       "        [-0.0113874 ,  0.01772687,  0.0261254 , -0.03825758,\n",
       "         -0.03290415, -0.00680462,  0.0386058 ,  0.04778702,\n",
       "          0.02439887, -0.02174522],\n",
       "        [ 0.04171964, -0.00263466, -0.02111938, -0.02107427,\n",
       "          0.03182595, -0.01457778, -0.00316788, -0.03930714,\n",
       "          0.04378268, -0.00669831],\n",
       "        [-0.0176368 ,  0.02304233,  0.03375972, -0.04318365,\n",
       "          0.02043772, -0.03278381,  0.04657319, -0.04396532,\n",
       "         -0.00016782,  0.03368478],\n",
       "        [ 0.02782284,  0.03026846, -0.00398594, -0.00651366,\n",
       "          0.0235322 ,  0.00862554, -0.03372109, -0.00999919,\n",
       "         -0.02583014, -0.04751901]],\n",
       "\n",
       "       [[ 0.04061041,  0.02592269, -0.00836708, -0.01811042,\n",
       "         -0.0458122 , -0.03328519,  0.00998405, -0.04839853,\n",
       "         -0.04852303, -0.00805988],\n",
       "        [ 0.04061041,  0.02592269, -0.00836708, -0.01811042,\n",
       "         -0.0458122 , -0.03328519,  0.00998405, -0.04839853,\n",
       "         -0.04852303, -0.00805988],\n",
       "        [ 0.04061041,  0.02592269, -0.00836708, -0.01811042,\n",
       "         -0.0458122 , -0.03328519,  0.00998405, -0.04839853,\n",
       "         -0.04852303, -0.00805988],\n",
       "        [ 0.04061041,  0.02592269, -0.00836708, -0.01811042,\n",
       "         -0.0458122 , -0.03328519,  0.00998405, -0.04839853,\n",
       "         -0.04852303, -0.00805988],\n",
       "        [-0.0113874 ,  0.01772687,  0.0261254 , -0.03825758,\n",
       "         -0.03290415, -0.00680462,  0.0386058 ,  0.04778702,\n",
       "          0.02439887, -0.02174522],\n",
       "        [-0.04388975,  0.02989615,  0.02946358,  0.03259555,\n",
       "         -0.00534894,  0.01517634, -0.03117203,  0.02580747,\n",
       "         -0.0076733 , -0.04619253],\n",
       "        [-0.0176368 ,  0.02304233,  0.03375972, -0.04318365,\n",
       "          0.02043772, -0.03278381,  0.04657319, -0.04396532,\n",
       "         -0.00016782,  0.03368478],\n",
       "        [-0.01776636,  0.03526363,  0.04396052, -0.02158763,\n",
       "         -0.00363054, -0.03363612,  0.01965309, -0.03230246,\n",
       "          0.04475847, -0.04319179]],\n",
       "\n",
       "       [[ 0.04061041,  0.02592269, -0.00836708, -0.01811042,\n",
       "         -0.0458122 , -0.03328519,  0.00998405, -0.04839853,\n",
       "         -0.04852303, -0.00805988],\n",
       "        [ 0.04061041,  0.02592269, -0.00836708, -0.01811042,\n",
       "         -0.0458122 , -0.03328519,  0.00998405, -0.04839853,\n",
       "         -0.04852303, -0.00805988],\n",
       "        [ 0.04061041,  0.02592269, -0.00836708, -0.01811042,\n",
       "         -0.0458122 , -0.03328519,  0.00998405, -0.04839853,\n",
       "         -0.04852303, -0.00805988],\n",
       "        [ 0.04256025,  0.03837217,  0.03914309,  0.0149249 ,\n",
       "         -0.04770917, -0.01698723,  0.04509841, -0.04374909,\n",
       "         -0.01997828,  0.03432863],\n",
       "        [ 0.0039117 ,  0.03211829, -0.01116996,  0.02185785,\n",
       "         -0.02397594,  0.01886166, -0.01351618,  0.04206871,\n",
       "         -0.0163142 ,  0.01741173],\n",
       "        [ 0.01231989,  0.01766464, -0.01903058,  0.01841965,\n",
       "          0.00894655,  0.01759482,  0.00897471, -0.04384918,\n",
       "          0.0167716 , -0.0215158 ],\n",
       "        [-0.02572079,  0.03641257, -0.02623745,  0.01963094,\n",
       "          0.00708997,  0.03191933, -0.01096097,  0.02903176,\n",
       "          0.02054912,  0.02369555],\n",
       "        [-0.00407257, -0.02982625,  0.03176557,  0.00946718,\n",
       "         -0.00076058, -0.00112825, -0.02652854,  0.02678926,\n",
       "          0.00063237, -0.00194008]],\n",
       "\n",
       "       [[ 0.04061041,  0.02592269, -0.00836708, -0.01811042,\n",
       "         -0.0458122 , -0.03328519,  0.00998405, -0.04839853,\n",
       "         -0.04852303, -0.00805988],\n",
       "        [ 0.04061041,  0.02592269, -0.00836708, -0.01811042,\n",
       "         -0.0458122 , -0.03328519,  0.00998405, -0.04839853,\n",
       "         -0.04852303, -0.00805988],\n",
       "        [ 0.04061041,  0.02592269, -0.00836708, -0.01811042,\n",
       "         -0.0458122 , -0.03328519,  0.00998405, -0.04839853,\n",
       "         -0.04852303, -0.00805988],\n",
       "        [ 0.04256025,  0.03837217,  0.03914309,  0.0149249 ,\n",
       "         -0.04770917, -0.01698723,  0.04509841, -0.04374909,\n",
       "         -0.01997828,  0.03432863],\n",
       "        [ 0.0039117 ,  0.03211829, -0.01116996,  0.02185785,\n",
       "         -0.02397594,  0.01886166, -0.01351618,  0.04206871,\n",
       "         -0.0163142 ,  0.01741173],\n",
       "        [ 0.01231989,  0.01766464, -0.01903058,  0.01841965,\n",
       "          0.00894655,  0.01759482,  0.00897471, -0.04384918,\n",
       "          0.0167716 , -0.0215158 ],\n",
       "        [-0.02572079,  0.03641257, -0.02623745,  0.01963094,\n",
       "          0.00708997,  0.03191933, -0.01096097,  0.02903176,\n",
       "          0.02054912,  0.02369555],\n",
       "        [ 0.04067247, -0.00023826, -0.00206163, -0.00780606,\n",
       "         -0.00772981, -0.0342428 ,  0.01969899,  0.02808121,\n",
       "          0.01599676,  0.01428613]],\n",
       "\n",
       "       [[ 0.04061041,  0.02592269, -0.00836708, -0.01811042,\n",
       "         -0.0458122 , -0.03328519,  0.00998405, -0.04839853,\n",
       "         -0.04852303, -0.00805988],\n",
       "        [ 0.04061041,  0.02592269, -0.00836708, -0.01811042,\n",
       "         -0.0458122 , -0.03328519,  0.00998405, -0.04839853,\n",
       "         -0.04852303, -0.00805988],\n",
       "        [ 0.04061041,  0.02592269, -0.00836708, -0.01811042,\n",
       "         -0.0458122 , -0.03328519,  0.00998405, -0.04839853,\n",
       "         -0.04852303, -0.00805988],\n",
       "        [ 0.02551267,  0.01745358, -0.02880521,  0.04925669,\n",
       "          0.00030235, -0.02976101,  0.01208477,  0.01774914,\n",
       "          0.01965861, -0.00289891],\n",
       "        [-0.0113874 ,  0.01772687,  0.0261254 , -0.03825758,\n",
       "         -0.03290415, -0.00680462,  0.0386058 ,  0.04778702,\n",
       "          0.02439887, -0.02174522],\n",
       "        [-0.03916121, -0.01966087, -0.00012029,  0.00342895,\n",
       "          0.0109944 , -0.02313638, -0.03946328,  0.02387632,\n",
       "          0.03612082,  0.02972135],\n",
       "        [-0.0176368 ,  0.02304233,  0.03375972, -0.04318365,\n",
       "          0.02043772, -0.03278381,  0.04657319, -0.04396532,\n",
       "         -0.00016782,  0.03368478],\n",
       "        [ 0.00998154,  0.01404382, -0.00840598, -0.00706353,\n",
       "         -0.00697857,  0.00916358, -0.04267447, -0.04218782,\n",
       "         -0.02658856, -0.02414759]],\n",
       "\n",
       "       [[ 0.04061041,  0.02592269, -0.00836708, -0.01811042,\n",
       "         -0.0458122 , -0.03328519,  0.00998405, -0.04839853,\n",
       "         -0.04852303, -0.00805988],\n",
       "        [ 0.04061041,  0.02592269, -0.00836708, -0.01811042,\n",
       "         -0.0458122 , -0.03328519,  0.00998405, -0.04839853,\n",
       "         -0.04852303, -0.00805988],\n",
       "        [ 0.04061041,  0.02592269, -0.00836708, -0.01811042,\n",
       "         -0.0458122 , -0.03328519,  0.00998405, -0.04839853,\n",
       "         -0.04852303, -0.00805988],\n",
       "        [ 0.04061041,  0.02592269, -0.00836708, -0.01811042,\n",
       "         -0.0458122 , -0.03328519,  0.00998405, -0.04839853,\n",
       "         -0.04852303, -0.00805988],\n",
       "        [ 0.04769633, -0.04798781,  0.04485159,  0.00762384,\n",
       "          0.00411266,  0.01713177, -0.01029433, -0.00067526,\n",
       "         -0.01639885, -0.00987168],\n",
       "        [ 0.04047513, -0.04338383,  0.001732  , -0.01359422,\n",
       "          0.03246835,  0.00225895,  0.0290503 , -0.03650365,\n",
       "         -0.02183747, -0.04785107],\n",
       "        [ 0.03460907, -0.03116634, -0.01436449,  0.00029943,\n",
       "          0.00460459, -0.04756365, -0.03640433, -0.04818779,\n",
       "         -0.02719271,  0.01676965],\n",
       "        [-0.02572079,  0.03641257, -0.02623745,  0.01963094,\n",
       "          0.00708997,  0.03191933, -0.01096097,  0.02903176,\n",
       "          0.02054912,  0.02369555]]], dtype=float32)"
      ]
     },
     "execution_count": 13,
     "metadata": {},
     "output_type": "execute_result"
    }
   ],
   "source": [
    "model.predict(embedded_docs)"
   ]
  },
  {
   "cell_type": "code",
   "execution_count": 14,
   "metadata": {},
   "outputs": [
    {
     "data": {
      "text/plain": [
       "array([   0,    0,    0,    0,  568, 3406, 3820, 6246], dtype=int32)"
      ]
     },
     "execution_count": 14,
     "metadata": {},
     "output_type": "execute_result"
    }
   ],
   "source": [
    "embedded_docs[0]"
   ]
  },
  {
   "cell_type": "code",
   "execution_count": 18,
   "metadata": {},
   "outputs": [
    {
     "ename": "ValueError",
     "evalue": "Exception encountered when calling Sequential.call().\n\n\u001b[1mCannot take the length of shape with unknown rank.\u001b[0m\n\nArguments received by Sequential.call():\n  • inputs=tf.Tensor(shape=<unknown>, dtype=int32)\n  • training=False\n  • mask=None\n  • kwargs=<class 'inspect._empty'>",
     "output_type": "error",
     "traceback": [
      "\u001b[31m---------------------------------------------------------------------------\u001b[39m",
      "\u001b[31mValueError\u001b[39m                                Traceback (most recent call last)",
      "\u001b[36mCell\u001b[39m\u001b[36m \u001b[39m\u001b[32mIn[18]\u001b[39m\u001b[32m, line 1\u001b[39m\n\u001b[32m----> \u001b[39m\u001b[32m1\u001b[39m \u001b[43mmodel\u001b[49m\u001b[43m.\u001b[49m\u001b[43mpredict\u001b[49m\u001b[43m(\u001b[49m\u001b[43membedded_docs\u001b[49m\u001b[43m[\u001b[49m\u001b[32;43m0\u001b[39;49m\u001b[43m]\u001b[49m\u001b[43m)\u001b[49m\n",
      "\u001b[36mFile \u001b[39m\u001b[32m~/Desktop/AI/.venv/lib/python3.13/site-packages/keras/src/utils/traceback_utils.py:122\u001b[39m, in \u001b[36mfilter_traceback.<locals>.error_handler\u001b[39m\u001b[34m(*args, **kwargs)\u001b[39m\n\u001b[32m    119\u001b[39m     filtered_tb = _process_traceback_frames(e.__traceback__)\n\u001b[32m    120\u001b[39m     \u001b[38;5;66;03m# To get the full stack trace, call:\u001b[39;00m\n\u001b[32m    121\u001b[39m     \u001b[38;5;66;03m# `keras.config.disable_traceback_filtering()`\u001b[39;00m\n\u001b[32m--> \u001b[39m\u001b[32m122\u001b[39m     \u001b[38;5;28;01mraise\u001b[39;00m e.with_traceback(filtered_tb) \u001b[38;5;28;01mfrom\u001b[39;00m\u001b[38;5;250m \u001b[39m\u001b[38;5;28;01mNone\u001b[39;00m\n\u001b[32m    123\u001b[39m \u001b[38;5;28;01mfinally\u001b[39;00m:\n\u001b[32m    124\u001b[39m     \u001b[38;5;28;01mdel\u001b[39;00m filtered_tb\n",
      "\u001b[36mFile \u001b[39m\u001b[32m~/Desktop/AI/.venv/lib/python3.13/site-packages/keras/src/utils/traceback_utils.py:122\u001b[39m, in \u001b[36mfilter_traceback.<locals>.error_handler\u001b[39m\u001b[34m(*args, **kwargs)\u001b[39m\n\u001b[32m    119\u001b[39m     filtered_tb = _process_traceback_frames(e.__traceback__)\n\u001b[32m    120\u001b[39m     \u001b[38;5;66;03m# To get the full stack trace, call:\u001b[39;00m\n\u001b[32m    121\u001b[39m     \u001b[38;5;66;03m# `keras.config.disable_traceback_filtering()`\u001b[39;00m\n\u001b[32m--> \u001b[39m\u001b[32m122\u001b[39m     \u001b[38;5;28;01mraise\u001b[39;00m e.with_traceback(filtered_tb) \u001b[38;5;28;01mfrom\u001b[39;00m\u001b[38;5;250m \u001b[39m\u001b[38;5;28;01mNone\u001b[39;00m\n\u001b[32m    123\u001b[39m \u001b[38;5;28;01mfinally\u001b[39;00m:\n\u001b[32m    124\u001b[39m     \u001b[38;5;28;01mdel\u001b[39;00m filtered_tb\n",
      "\u001b[31mValueError\u001b[39m: Exception encountered when calling Sequential.call().\n\n\u001b[1mCannot take the length of shape with unknown rank.\u001b[0m\n\nArguments received by Sequential.call():\n  • inputs=tf.Tensor(shape=<unknown>, dtype=int32)\n  • training=False\n  • mask=None\n  • kwargs=<class 'inspect._empty'>"
     ]
    }
   ],
   "source": [
    "model.predict(embedded_docs[0])"
   ]
  },
  {
   "cell_type": "code",
   "execution_count": null,
   "metadata": {},
   "outputs": [],
   "source": []
  }
 ],
 "metadata": {
  "kernelspec": {
   "display_name": "RAG",
   "language": "python",
   "name": "python3"
  },
  "language_info": {
   "codemirror_mode": {
    "name": "ipython",
    "version": 3
   },
   "file_extension": ".py",
   "mimetype": "text/x-python",
   "name": "python",
   "nbconvert_exporter": "python",
   "pygments_lexer": "ipython3",
   "version": "3.13.7"
  }
 },
 "nbformat": 4,
 "nbformat_minor": 2
}
